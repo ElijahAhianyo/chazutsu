{
 "cells": [
  {
   "cell_type": "markdown",
   "metadata": {},
   "source": [
    "# chazutsu on Jupyter Notebook Test"
   ]
  },
  {
   "cell_type": "code",
   "execution_count": 1,
   "metadata": {
    "collapsed": true
   },
   "outputs": [],
   "source": [
    "%load_ext autoreload\n",
    "%autoreload 2"
   ]
  },
  {
   "cell_type": "code",
   "execution_count": 2,
   "metadata": {
    "collapsed": true
   },
   "outputs": [],
   "source": [
    "import os\n",
    "import sys\n",
    "sys.path.append(os.path.join(os.getcwd(), \"../\"))\n",
    "import chazutsu\n",
    "from chazutsu.datasets.framework.dataset import Dataset"
   ]
  },
  {
   "cell_type": "code",
   "execution_count": 3,
   "metadata": {
    "collapsed": true
   },
   "outputs": [],
   "source": [
    "class SampleDataset(Dataset):\n",
    "\n",
    "    def __init__(self):\n",
    "        super().__init__(\n",
    "            name=\"sample_dataset\",\n",
    "            site_url=\"https://github.com/chakki-works/chazutsu\",\n",
    "            download_url=\"https://github.com/chakki-works/chazutsu/archive/master.zip\",\n",
    "            description=\"sample dataset\"\n",
    "            )\n",
    "\n",
    "    def extract(self, path):\n",
    "        extracted = self.extract_file(path, \"chazutsu-master/README.md\")\n",
    "        return extracted[0]\n",
    "\n",
    "DATA_ROOT = os.path.join(os.getcwd(), \"data\")"
   ]
  },
  {
   "cell_type": "code",
   "execution_count": 4,
   "metadata": {},
   "outputs": [
    {
     "name": "stdout",
     "output_type": "stream",
     "text": [
      "Test log output\n"
     ]
    }
   ],
   "source": [
    "d = SampleDataset()\n",
    "d.logger.info(\"Test log output\")"
   ]
  },
  {
   "cell_type": "code",
   "execution_count": 5,
   "metadata": {},
   "outputs": [
    {
     "name": "stdout",
     "output_type": "stream",
     "text": [
      "Begin downloading the sample_dataset dataset from https://github.com/chakki-works/chazutsu/archive/master.zip.\n",
      "The dataset file is saved to /Users/smap6/develop/source/chazutsu/tests/data/sample_dataset/chazutsu-master.zip\n"
     ]
    },
    {
     "data": {
      "application/vnd.jupyter.widget-view+json": {
       "model_id": "7579a9b71202416ca640e9d856d9aab6"
      }
     },
     "metadata": {},
     "output_type": "display_data"
    },
    {
     "name": "stdout",
     "output_type": "stream",
     "text": [
      "\n",
      "Shuffle the extracted dataset.\n",
      "Split to train & test file.\n"
     ]
    },
    {
     "data": {
      "application/vnd.jupyter.widget-view+json": {
       "model_id": "7e86ea62c943429e81032402c23d4c2a"
      }
     },
     "metadata": {},
     "output_type": "display_data"
    },
    {
     "name": "stdout",
     "output_type": "stream",
     "text": [
      "\n",
      "File is splited to README_train.md & README_test.md. Each records are 76 & 33 (test_size=30.28%).\n",
      "Done all process! Make below files at /Users/smap6/develop/source/chazutsu/tests/data/sample_dataset\n",
      " README_test.md\n",
      " README_train.md\n"
     ]
    }
   ],
   "source": [
    "r = d.download(DATA_ROOT, force=True)"
   ]
  },
  {
   "cell_type": "code",
   "execution_count": 6,
   "metadata": {
    "collapsed": true
   },
   "outputs": [],
   "source": [
    "import shutil\n",
    "shutil.rmtree(r.root)"
   ]
  },
  {
   "cell_type": "code",
   "execution_count": 7,
   "metadata": {},
   "outputs": [
    {
     "name": "stdout",
     "output_type": "stream",
     "text": [
      "Make directory for downloading the file to /Users/smap6/develop/source/chazutsu/tests.\n",
      "Begin downloading the Moview Review Data dataset from http://www.cs.cornell.edu/people/pabo/movie-review-data/review_polarity.tar.gz.\n",
      "The dataset file is saved to /Users/smap6/develop/source/chazutsu/tests/data/moview_review_data/review_polarity.tar.gz\n"
     ]
    },
    {
     "data": {
      "application/vnd.jupyter.widget-view+json": {
       "model_id": "9e468065503c41f3a832d8d5f6b14063"
      }
     },
     "metadata": {},
     "output_type": "display_data"
    },
    {
     "name": "stdout",
     "output_type": "stream",
     "text": [
      "\n",
      "Extracting negative data.\n"
     ]
    },
    {
     "data": {
      "application/vnd.jupyter.widget-view+json": {
       "model_id": "af4aa67ed1214d4d96f7f87ed1561181"
      }
     },
     "metadata": {},
     "output_type": "display_data"
    },
    {
     "name": "stdout",
     "output_type": "stream",
     "text": [
      "\n",
      "Extracting positive data.\n"
     ]
    },
    {
     "data": {
      "application/vnd.jupyter.widget-view+json": {
       "model_id": "ac7b1bc12e5d4ca9b7e036afdbfe192e"
      }
     },
     "metadata": {},
     "output_type": "display_data"
    },
    {
     "name": "stdout",
     "output_type": "stream",
     "text": [
      "\n",
      "Shuffle the extracted dataset.\n",
      "Split to train & test file.\n"
     ]
    },
    {
     "data": {
      "application/vnd.jupyter.widget-view+json": {
       "model_id": "58b471f339f649b2831fedf245289d96"
      }
     },
     "metadata": {},
     "output_type": "display_data"
    },
    {
     "name": "stdout",
     "output_type": "stream",
     "text": [
      "\n",
      "File is splited to review_polarity_train.txt & review_polarity_test.txt. Each records are 1400 & 600 (test_size=30.00%).\n",
      "Done all process! Make below files at /Users/smap6/develop/source/chazutsu/tests/data/moview_review_data\n",
      " review_polarity_test.txt\n",
      " review_polarity_train.txt\n"
     ]
    }
   ],
   "source": [
    "r = chazutsu.datasets.MovieReview.polarity().download(force=True)"
   ]
  },
  {
   "cell_type": "code",
   "execution_count": 8,
   "metadata": {
    "collapsed": true
   },
   "outputs": [],
   "source": [
    "shutil.rmtree(r.root)"
   ]
  },
  {
   "cell_type": "code",
   "execution_count": null,
   "metadata": {
    "collapsed": true
   },
   "outputs": [],
   "source": []
  }
 ],
 "metadata": {
  "kernelspec": {
   "display_name": "Python 3",
   "language": "python",
   "name": "python3"
  },
  "language_info": {
   "codemirror_mode": {
    "name": "ipython",
    "version": 3
   },
   "file_extension": ".py",
   "mimetype": "text/x-python",
   "name": "python",
   "nbconvert_exporter": "python",
   "pygments_lexer": "ipython3",
   "version": "3.4.5"
  }
 },
 "nbformat": 4,
 "nbformat_minor": 2
}
